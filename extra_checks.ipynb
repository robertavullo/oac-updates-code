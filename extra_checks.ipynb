{
 "cells": [
  {
   "cell_type": "markdown",
   "metadata": {},
   "source": [
    "## Welcome to the new and improved deleted DOIs investigations process\n",
    "### Simply add your login code below between the quotation marks, then click *Cell* > *Run All*"
   ]
  },
  {
   "cell_type": "code",
   "execution_count": 1,
   "metadata": {},
   "outputs": [],
   "source": [
    "login = \"rvq5988\""
   ]
  },
  {
   "cell_type": "code",
   "execution_count": 2,
   "metadata": {
    "scrolled": false
   },
   "outputs": [
    {
     "name": "stdout",
     "output_type": "stream",
     "text": [
      "Reading the all the sheets in all the files...\n",
      "... the many...\n",
      "... many...\n",
      "... sheets\n",
      "Now onto the Delilah report\n",
      "Updating the Do NOT Report sheet\n",
      "Formatting the files again...\n",
      "Deleted DOI investigations completed in 2 minutes 18 seconds\n",
      "Done!\n",
      "Now send the update email to the team and follow the guidelines for the error trend analysis.\n"
     ]
    }
   ],
   "source": [
    "from weekly_master_functions import press_the_big_red_button\n",
    "press_the_big_red_button(login)"
   ]
  }
 ],
 "metadata": {
  "kernelspec": {
   "display_name": "Python 3",
   "language": "python",
   "name": "python3"
  },
  "language_info": {
   "codemirror_mode": {
    "name": "ipython",
    "version": 3
   },
   "file_extension": ".py",
   "mimetype": "text/x-python",
   "name": "python",
   "nbconvert_exporter": "python",
   "pygments_lexer": "ipython3",
   "version": "3.7.4"
  }
 },
 "nbformat": 4,
 "nbformat_minor": 2
}
