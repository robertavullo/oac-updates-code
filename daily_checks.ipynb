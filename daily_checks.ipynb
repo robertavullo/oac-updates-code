{
 "cells": [
  {
   "cell_type": "markdown",
   "metadata": {},
   "source": [
    "## Welcome to the new and improved daily update process\n",
    "### Simply add your login code below between the quotation marks, then click *Cell* > *Run All*"
   ]
  },
  {
   "cell_type": "code",
   "execution_count": 1,
   "metadata": {},
   "outputs": [],
   "source": [
    "login = \"rvq5988\""
   ]
  },
  {
   "cell_type": "code",
   "execution_count": 2,
   "metadata": {
    "scrolled": false
   },
   "outputs": [
    {
     "name": "stderr",
     "output_type": "stream",
     "text": [
      "C:\\ProgramData\\Anaconda3\\lib\\site-packages\\requests\\__init__.py:91: RequestsDependencyWarning: urllib3 (1.26.7) or chardet (3.0.4) doesn't match a supported version!\n",
      "  RequestsDependencyWarning)\n"
     ]
    },
    {
     "name": "stdout",
     "output_type": "stream",
     "text": [
      "Reading the AAS reports...\n",
      "(You better get a coffee, this might take a while)\n",
      "... reading the PALM report...\n",
      "(Seriously, get a drink)\n",
      "('tis a big report)\n",
      "... reading the fully OA reconciliation report...\n",
      "... and even MORE files!\n",
      "Working on the opt-outs...\n",
      "Opt-out sheet complete!\n",
      "Now working on the non-opt-out hybrid articles...\n",
      "Can't find a unique key for value Nano Research; instead get [12227, 12274]\n",
      "Can't find a unique key for value Nano Research; instead get [12227, 12274]\n",
      "Can't find a unique key for value Nano Research; instead get [12227, 12274]\n",
      "Can't find a unique key for value Nano Research; instead get [12227, 12274]\n",
      "Can't find a unique key for value Nano Research; instead get [12227, 12274]\n",
      "Can't find a unique key for value Nano Research; instead get [12227, 12274]\n",
      "Can't find a unique key for value Nano Research; instead get [12227, 12274]\n",
      "Can't find a unique key for value Nano Research; instead get [12227, 12274]\n",
      "Can't find a unique key for value Nano Research; instead get [12227, 12274]\n",
      "Can't find a unique key for value Nano Research; instead get [12227, 12274]\n",
      "Can't find a unique key for value Nano Research; instead get [12227, 12274]\n",
      "Can't find a unique key for value Nano Research; instead get [12227, 12274]\n",
      "Can't find a unique key for value Nano Research; instead get [12227, 12274]\n",
      "Can't find a unique key for value Nano Research; instead get [12227, 12274]\n",
      "Can't find a unique key for value Nano Research; instead get [12227, 12274]\n",
      "Can't find a unique key for value Nano Research; instead get [12227, 12274]\n",
      "Can't find a unique key for value Nano Research; instead get [12227, 12274]\n",
      "Can't find a unique key for value Nano Research; instead get [12227, 12274]\n",
      "Can't find a unique key for value Nano Research; instead get [12227, 12274]\n",
      "Can't find a unique key for value Nano Research; instead get [12227, 12274]\n",
      "Can't find a unique key for value Nano Research; instead get [12227, 12274]\n",
      "Can't find a unique key for value Nano Research; instead get [12227, 12274]\n",
      "Can't find a unique key for value Nano Research; instead get [12227, 12274]\n",
      "Can't find a unique key for value Nano Research; instead get [12227, 12274]\n",
      "Can't find a unique key for value Nano Research; instead get [12227, 12274]\n",
      "Can't find a unique key for value Nano Research; instead get [12227, 12274]\n",
      "Can't find a unique key for value Nano Research; instead get [12227, 12274]\n",
      "Can't find a unique key for value Nano Research; instead get [12227, 12274]\n",
      "Can't find a unique key for value Nano Research; instead get [12227, 12274]\n",
      "Can't find a unique key for value Nano Research; instead get [12227, 12274]\n",
      "Can't find a unique key for value Nano Research; instead get [12227, 12274]\n",
      "Can't find a unique key for value Nano Research; instead get [12227, 12274]\n",
      "Can't find a unique key for value Nano Research; instead get [12227, 12274]\n",
      "Time to split the articles in the different tabs!\n",
      "Sheet with 2022 approvals done\n",
      "Sheet with previous years approvals done\n",
      "Sheet with rejections done\n",
      "Sheet with unverified articles done\n",
      "Time to fix the cancellations sheet\n",
      "Sheet with cancellations done\n",
      "FOAL update done\n",
      "Formatting all the files now...\n",
      "Looking for errors and manual approvals...\n",
      "You're almost there!\n",
      "No errors today! *dancing panda*\n",
      "Creating the approvals file...\n",
      "Creating the upload for Delilah-JFlux\n",
      "You're almost there!\n",
      "Daily update update completed in 4 minutes 45 seconds\n",
      "Done!\n",
      "Now check the Agreement column and add any missing institutions, then do the extended weekly checks.\n"
     ]
    }
   ],
   "source": [
    "from master_functions import master_function_to_rule_them_all\n",
    "master_function_to_rule_them_all(login)"
   ]
  }
 ],
 "metadata": {
  "kernelspec": {
   "display_name": "Python 3",
   "language": "python",
   "name": "python3"
  },
  "language_info": {
   "codemirror_mode": {
    "name": "ipython",
    "version": 3
   },
   "file_extension": ".py",
   "mimetype": "text/x-python",
   "name": "python",
   "nbconvert_exporter": "python",
   "pygments_lexer": "ipython3",
   "version": "3.7.4"
  }
 },
 "nbformat": 4,
 "nbformat_minor": 2
}
